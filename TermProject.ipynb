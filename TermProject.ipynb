{
 "cells": [
  {
   "cell_type": "markdown",
   "id": "ceb5074d-15eb-47ef-a96e-4e3e5e7993b6",
   "metadata": {
    "tags": []
   },
   "source": [
    "## Methodology\n",
    "\n",
    "To give a run-down on what will be done here. \n",
    "\n",
    "- *Part one* will be a little data exploration into the trees dataset. We will look at the types of trees and how many are planted in the city. After that, we will convert that dataframe into a geopandas dataframe \n",
    "\n",
    "- *Part two* will be combining a statistical dataset that contains population, population density, and low income status, and a geodataset containing a similar field *DAUID* in order to georeference the statistial dataset. \n",
    "\n",
    "- *Part three* will aggregate the newly georeferenced dataset in order to extract the buroughs of interest and examine population density and percent low income. \n",
    "\n",
    "- *Part four* will examine the amount of trees present per burough\n",
    "\n",
    "- *Part five* will be the final statistical analysis of the three variables to see if there is any coorelation. \n"
   ]
  },
  {
   "cell_type": "markdown",
   "id": "fb1df9d3-1207-4c3b-9257-ecceb76edb13",
   "metadata": {},
   "source": [
    "#### First, we need to install all of our packages, for this, just run the cell below:"
   ]
  },
  {
   "cell_type": "code",
   "execution_count": null,
   "id": "6f2e2c50-d52b-4f0a-a0bb-0b25079788f5",
   "metadata": {
    "tags": []
   },
   "outputs": [],
   "source": [
    "#run this cell\n",
    "\n",
    "!pip install  pyogrio rioxarray earthpy matplotlib pandas geopandas missingno mapclassify folium ipyleaflet contextily\n"
   ]
  },
  {
   "cell_type": "code",
   "execution_count": null,
   "id": "e3de19bd-ead9-4d4b-ad60-1c570f5980b5",
   "metadata": {
    "tags": []
   },
   "outputs": [],
   "source": [
    "#and run this cell\n",
    "\n",
    "import matplotlib\n",
    "import matplotlib.pyplot as plt\n",
    "import folium\n",
    "import mapclassify\n",
    "import contextily\n",
    "from scipy.stats import linregress\n",
    "from ipyleaflet import Map, basemaps\n",
    "from ipyleaflet import GeoJSON"
   ]
  },
  {
   "cell_type": "markdown",
   "id": "ca2fed4c-627f-47d1-9f5f-4bb3e23a5f7d",
   "metadata": {},
   "source": [
    "## Part 1\n",
    "### The first file we will take a look at is the directory of all the public trees in the Agglomeration of Montreal"
   ]
  },
  {
   "cell_type": "code",
   "execution_count": null,
   "id": "81c94beb-c511-4753-933b-2037d899d101",
   "metadata": {
    "tags": []
   },
   "outputs": [],
   "source": [
    "#importing the pandas module\n",
    "import pandas as pd \n",
    "\n",
    "public_trees = pd.read_csv('arbres-publics.csv', low_memory = False)\n",
    "#doing fillna to add zeros in cells that may not have a value in order to prevent any errors \n",
    "public_trees.fillna(0, inplace=True)\n",
    "\n",
    "public_trees"
   ]
  },
  {
   "cell_type": "markdown",
   "id": "d8e65305-361f-4940-9bdc-a4ee712bc5b2",
   "metadata": {},
   "source": [
    "#### There is a lot going on in this file, so the *csv* is also available in the notebook which can help you follow along with what exactly is going on.  \n",
    "\n",
    "1. First of all, we have the **ARROND_NOM** which is the name of the burough that the tree is situated;\n",
    "\n",
    "2. Second, we have **Emplacement,** which is where the tree is placed (Sidewalk, park, etc.)\n",
    "\n",
    "3. Next two are the **X and Y coordinates** in the *Projection: Québec Modified Transverse Mercator(NAD83), Québec MTM Zone 8.*\n",
    "\n",
    "4. After that, we have the **SIGLE**, this is an Acronym composed of the first two letters of the *genus, species* and *cultivar.*\n",
    "\n",
    "5. The **DHP** is the is the *diameter at breast height* , this is the diameter measure of the tree, generally, the trees in my experience will range from 15cm to over 3m (usually really old maple trees), but the trees are typically planted when the diameter reaches around 10cm. \n",
    "\n",
    "6. The **NOM_PARC** is the name of the park if the tree is planted in a park, we will see whether or not we keep this file when we start looking more into our file. \n",
    "\n",
    "7. The last two columns are the **Latitude and Longitude**, both in *WGS 84*. "
   ]
  },
  {
   "cell_type": "markdown",
   "id": "8c7bdff1-fe71-468f-8d9d-bfec3e93e025",
   "metadata": {},
   "source": [
    "#### Lets see how many types of trees exist on the public tree registry:"
   ]
  },
  {
   "cell_type": "code",
   "execution_count": null,
   "id": "287f1bd4-5a90-4075-bf5a-30a9e0979e9b",
   "metadata": {
    "tags": []
   },
   "outputs": [],
   "source": [
    "tree_types = public_trees['SIGLE'].value_counts()\n",
    "\n",
    "tree_types"
   ]
  },
  {
   "cell_type": "markdown",
   "id": "fdc056a8-19c7-4729-a034-ee41c2f0a147",
   "metadata": {},
   "source": [
    "#### It looks like there are 715 types of trees on the public registry! That is a lot of trees! \n",
    "#### Lets see when this abundance of the same tree ends by using the .head() on this variable\n",
    "\n",
    "#### We will look at the top 10 species here:"
   ]
  },
  {
   "cell_type": "code",
   "execution_count": null,
   "id": "dbbd1456-93d7-4062-95b2-354bbd2bf8e4",
   "metadata": {
    "tags": []
   },
   "outputs": [],
   "source": [
    "tree_types.head(10)"
   ]
  },
  {
   "cell_type": "markdown",
   "id": "8fed0995-4e07-4506-8912-9ac85ad372c7",
   "metadata": {},
   "source": [
    "### we can see that the main types/cultivars of trees are:\n",
    "\n",
    "1. Maple *(AC)*; \n",
    "\n",
    "2. Ash *(FR)*; \n",
    "\n",
    "3. Linden *(TI)*;\n",
    "\n",
    "4. Hackberry *(CE)*;\n",
    "\n",
    "5. Honey Locust (*GL)*;\n",
    "\n",
    "6. Gymnocladus *(GY)* also known as the kentucky coffee tree; \n",
    "\n",
    "7. Blue Spruce *(PI)*; \n",
    "\n",
    "8. Elm *(UL)*"
   ]
  },
  {
   "cell_type": "markdown",
   "id": "505ba7ae-0272-4f4c-be82-170cfe15abeb",
   "metadata": {},
   "source": [
    "#### Lets see how many types of Maple trees there are. \n",
    "\n",
    "#### The maple trees, or *Acer,* which represents all maple tree and shrubs that exist. So this means we will be searcging for all of the variables in the **SIGLE** column that begin with **AC** for *Acer*  "
   ]
  },
  {
   "cell_type": "code",
   "execution_count": null,
   "id": "ce9e693d-edc4-488b-b33d-387c8d215b33",
   "metadata": {
    "tags": []
   },
   "outputs": [],
   "source": [
    "#extract each variable in the SIGLE column that begins with AC for ACER\n",
    "maple = public_trees[public_trees['SIGLE'].str[:2] == 'AC']\n",
    "\n",
    "maple = maple['SIGLE'].value_counts()\n",
    "\n",
    "maple"
   ]
  },
  {
   "cell_type": "markdown",
   "id": "8a4f9615-9212-45a0-9883-15a0e5f7aca8",
   "metadata": {},
   "source": [
    "#### There are 101 different types and cultivars of Maple trees! Lets see if we can narrow this down to some we know:"
   ]
  },
  {
   "cell_type": "code",
   "execution_count": null,
   "id": "6ea806f1-2dbd-41fb-8d5c-a36935741180",
   "metadata": {
    "tags": []
   },
   "outputs": [],
   "source": [
    "maple.head(10)"
   ]
  },
  {
   "cell_type": "markdown",
   "id": "44c007e7-d986-479a-9b79-d1a191af637b",
   "metadata": {},
   "source": [
    "#### So looking at the first 10 we have:\n",
    "\n",
    "- ACSA - Acer Saccharrinium (silver maple)\n",
    "\n",
    "- ACPL - Acer Platanoides (norway maple)\n",
    "\n",
    "- ACSC - Acer Saccharum (sugar maple)\n",
    "\n",
    "- ACFR - Acer x Freemanii (freemanii maple)\n",
    "*which is the cross of a red maple and sugar maple, very very popular here*\n",
    "\n",
    "- ACNE - Acer Negundo (box-elder or ash-leaved maple) \n",
    "*Fun fact about this tree: there is a very common confusion between the ash tree and this tree, and a lot of citizens will call in to cut down what they think is their ash tree, but find out that it is a maple tree when an inspector comes to check it out. I was that inspector for part of a summer stage**\n",
    "\n",
    "- ACRU - Acer Rubrum (red maple)\n",
    "\n",
    "##### Some of them have more letters in their acronyms, this isnt super important, it is just the cultivar, so sometimes it is named after the pepiniere it was grown in, or simply the color the leaves may turn at certain times of the year. "
   ]
  },
  {
   "cell_type": "markdown",
   "id": "5e494513-f9cd-4719-bf28-f666cfbe1c48",
   "metadata": {},
   "source": [
    "#### Lets look at all the types of ash trees now, these are the *FR* for **Fraxinus** "
   ]
  },
  {
   "cell_type": "code",
   "execution_count": null,
   "id": "90bdbbb7-caa6-45c3-b2b8-cc0a3028184e",
   "metadata": {
    "tags": []
   },
   "outputs": [],
   "source": [
    "#extract each variable in the SIGLE column that begins with FR for \n",
    "ash = public_trees[public_trees['SIGLE'].str[:2] == 'FR']\n",
    "\n",
    "ash = ash['SIGLE'].value_counts()\n",
    "\n",
    "ash.count()"
   ]
  },
  {
   "cell_type": "markdown",
   "id": "b22c77a4-be42-4c59-b073-e2f4151aa63e",
   "metadata": {
    "tags": []
   },
   "source": [
    "#### It looks like we have 43 types of ash trees, lets look at them all since they will all actually appear when i call this variable:"
   ]
  },
  {
   "cell_type": "code",
   "execution_count": null,
   "id": "64ef2373-4c4d-4b66-8d1f-69b31199a741",
   "metadata": {
    "tags": []
   },
   "outputs": [],
   "source": [
    "ash"
   ]
  },
  {
   "cell_type": "markdown",
   "id": "8159b948-36bb-4ed1-9cdb-0f1521bde6f9",
   "metadata": {},
   "source": [
    "####  The most prominent types of Ash Trees are; \n",
    "\n",
    "- *FRAM* is an american ash tree, or a white ash\n",
    "\n",
    "- *FRPE* is a pennsylvanian ash tree, or a green ash\n",
    "\n",
    "- *FRNI* is the black ash tree\n"
   ]
  },
  {
   "cell_type": "markdown",
   "id": "b64388ad-1a09-4cc5-80e2-506e050fbe04",
   "metadata": {},
   "source": [
    "#### Lets look at the next prominent tree on our list from eariler, the *TI* or **Tilia**, which is the basswood/linden tree"
   ]
  },
  {
   "cell_type": "code",
   "execution_count": null,
   "id": "8aa65385-17b2-40ed-bc89-66207c1224fd",
   "metadata": {
    "tags": []
   },
   "outputs": [],
   "source": [
    "linden = public_trees[public_trees['SIGLE'].str[:2] == 'TI']\n",
    "\n",
    "linden = linden['SIGLE'].value_counts()\n",
    "\n",
    "linden"
   ]
  },
  {
   "cell_type": "markdown",
   "id": "3c8b2c3e-1d6c-430e-b3ac-a27e9097805e",
   "metadata": {},
   "source": [
    "#### Here we have:\n",
    "\n",
    "- *TICO* which is tilia cordata (little leaf linden, native to europe)\n",
    "\n",
    "- *TIAM* which is tilia americana (american basswood)\n",
    "\n",
    "- *TIMO* which is tilia mongolica (mongolian lime, which is actually a smaller tree compared to the other two)"
   ]
  },
  {
   "cell_type": "markdown",
   "id": "6936ee29-9dbc-4626-8025-76b7b9f7ae5f",
   "metadata": {},
   "source": [
    "### Now we will convert this file to a geopandas file so that we can merge it with other spatial data"
   ]
  },
  {
   "cell_type": "code",
   "execution_count": null,
   "id": "fa8634d1-e4b3-4607-81ee-1584cc37734b",
   "metadata": {
    "tags": []
   },
   "outputs": [],
   "source": [
    "import geopandas as gpd\n",
    "\n",
    "geo_trees = gpd.GeoDataFrame(public_trees, geometry=gpd.points_from_xy(public_trees.Longitude, public_trees.Latitude))\n",
    "geo_trees.rename(columns={\"ARROND_NOM\":\"NOM\"}, \n",
    "              inplace = True)\n",
    "# We are changing ARROND_NOM here to match NOM in the event I decide to merge or not with other data\n",
    "geo_trees"
   ]
  },
  {
   "cell_type": "markdown",
   "id": "a17c57d7-2953-4f70-aade-08d0eb20aeea",
   "metadata": {},
   "source": [
    "## Part 2\n",
    "\n",
    "### The next data we will upload is census data. \n",
    "\n",
    "#### This data contains population, population density, and percent low income per dissemination area"
   ]
  },
  {
   "cell_type": "code",
   "execution_count": null,
   "id": "21d3f475-f329-48d6-b482-66eacab38221",
   "metadata": {
    "tags": []
   },
   "outputs": [],
   "source": [
    "pop_data = pd.read_csv('MTL_DATA.csv')\n",
    " \n",
    "\n",
    "pop_data.fillna(0, inplace=True)\n",
    "\n",
    "pop_data"
   ]
  },
  {
   "cell_type": "markdown",
   "id": "1994cda8-b02b-4364-8dc0-00a9f19df8b4",
   "metadata": {},
   "source": [
    "#### Unlike the other file we uploaded, this is not a geospatial dataset, so in order to add coordinates to these values, we need to upload another shapefile that contains similar data so that we can merge the data into one. "
   ]
  },
  {
   "cell_type": "code",
   "execution_count": null,
   "id": "ba9b09cd-f20a-424c-bfec-9d24bdd622d6",
   "metadata": {
    "tags": []
   },
   "outputs": [],
   "source": [
    "shapefile = gpd.read_file('dissemination_area.shp', engine = 'pyogrio')\n",
    "\n",
    "#this is to turn DAUID into an integer in order to merge in the next step\n",
    "to_convert = {'DAUID': 'int64'}\n",
    "shapefile = shapefile.astype(to_convert)\n",
    "\n",
    "shapefile"
   ]
  },
  {
   "cell_type": "markdown",
   "id": "206e2337-132c-468e-9334-267e45e816d4",
   "metadata": {
    "tags": []
   },
   "source": [
    "#### The column we will merge on is the DAUID, this will ensure that we extract only montreal data for this analysis. "
   ]
  },
  {
   "cell_type": "code",
   "execution_count": null,
   "id": "9040e7ee-dc40-42ac-9a33-bb86884c2745",
   "metadata": {
    "tags": []
   },
   "outputs": [],
   "source": [
    "pop_gdf = pd.merge(\n",
    "    shapefile,\n",
    "    pop_data,\n",
    "    how=\"inner\",\n",
    "    on='DAUID',\n",
    "    left_on=None,\n",
    "    right_on=None,\n",
    "    left_index=False,\n",
    "    right_index=False,\n",
    "    sort=True,\n",
    "    suffixes=(\"_x\", \"_y\"),\n",
    "    copy=True,\n",
    "    indicator=False,\n",
    "    validate=None,\n",
    ")\n",
    "\n",
    "pop_gdf"
   ]
  },
  {
   "cell_type": "markdown",
   "id": "5fd24494-0a36-4392-985b-4dc964fbfd4f",
   "metadata": {},
   "source": [
    "#### Now that our population data is spatially referenced, we can merge it with montreal burough data using a function we made in lab 7"
   ]
  },
  {
   "cell_type": "code",
   "execution_count": null,
   "id": "f8cdf64e-b239-4db1-ad2c-1f316b2d68dc",
   "metadata": {
    "tags": []
   },
   "outputs": [],
   "source": [
    "#first we need to upload this geojson file\n",
    "muni_mtl = gpd.read_file('muni_mtl.geojson', engine = 'pyogrio')\n",
    "\n",
    "muni_mtl"
   ]
  },
  {
   "cell_type": "markdown",
   "id": "76180ace-245d-4fc4-b075-ebb8fd71ee06",
   "metadata": {
    "tags": []
   },
   "source": [
    "### Run the function below so that we can use it to spatially merge our two geodataframes. "
   ]
  },
  {
   "cell_type": "code",
   "execution_count": null,
   "id": "2c7f711f-dc77-4726-9af7-053b368b9d19",
   "metadata": {},
   "outputs": [],
   "source": [
    "def sjoin_labels(gdf1, gdf2):\n",
    "    \n",
    "#The first positional argument must expect a geodataframe containing polygons to which you would like to join a territorial definition.\n",
    "   \n",
    "    gdf1 = gdf1.to_crs('EPSG:2950')  #ensure both geodatasets are in MTM-8\n",
    "    gdf2 = gdf2.to_crs('EPSG:2950') \n",
    "\n",
    "    #extract the centroids from the first gdf passed to it in order to then perform a spatial join.\n",
    "    gdf1['centroids'] = gdf1['geometry'].centroid #derive the centroid for each DA polygon and assign it to a column called 'centroid'\n",
    "    gdf1.set_geometry('centroids', inplace=True) \n",
    "    \n",
    "#The second positional argument must expect a geodataframe containing polygons from which these labels will be derived.    \n",
    "    #we attach the municipal boundary labels to each intersecting DA centroid:   \n",
    "    gdf3 = gdf1.sjoin(gdf2)\n",
    "    #reset the geometries to its original geometry once the join is complete    \n",
    "    gdf3.set_geometry('geometry', inplace=True)\n",
    "    \n",
    "    return gdf3"
   ]
  },
  {
   "cell_type": "markdown",
   "id": "cbaa804d-05db-4cfe-8373-07296d73f19b",
   "metadata": {
    "tags": []
   },
   "source": [
    "### Now we can join the two datasets, do this by running the code below:"
   ]
  },
  {
   "cell_type": "code",
   "execution_count": null,
   "id": "0299a1b2-60dc-4cc8-bd31-72b6a8e08c1a",
   "metadata": {
    "tags": []
   },
   "outputs": [],
   "source": [
    "montreal_data = sjoin_labels(pop_gdf, muni_mtl)\n",
    "montreal_data"
   ]
  },
  {
   "cell_type": "markdown",
   "id": "0966cf80-f6e8-4d8c-aca9-631c55cb8312",
   "metadata": {},
   "source": [
    "## Part 3\n",
    "\n",
    "#### Now we will aggregate the data by burough so we can analyse the statistics by burough"
   ]
  },
  {
   "cell_type": "code",
   "execution_count": null,
   "id": "4b15406c-0573-4668-b26c-5e25d37dd525",
   "metadata": {
    "tags": []
   },
   "outputs": [],
   "source": [
    "montreal_data = montreal_data.dissolve(by = \"NOM\", aggfunc={'POP2021':'sum', 'POPDENS':'sum', 'TOTLOWINC':'sum'})\n",
    "\n",
    "\n",
    "#Next we will add a column that will give us percent low income.\n",
    "\n",
    "montreal_data = montreal_data.assign(PERCLOWINC = ((montreal_data['TOTLOWINC']/montreal_data['POP2021'])*100))\n",
    "\n",
    "#Since all of the cities here are not involved with the public trees dataset so lets clean this up by dropping some rows\n",
    "\n",
    "montreal_data = montreal_data.drop([\"Baie-d'Urfé\", \"Beaconsfield\", \"Côte-Saint-Luc\", \"Dollard-des-Ormeaux\",\n",
    "                                   \"Dorval\", \"Hampstead\", \"Kirkland\", \"L'Île-Bizard-Sainte-Geneviève\", \"L'Île-Dorval\",\n",
    "                                   \"Lachine\", \"Mont-Royal\", \"Montréal-Est\", \"Montréal-Ouest\", \"Outremont\",\n",
    "                                    \"Pointe-Claire\", \"Sainte-Anne-de-Bellevue\", \"Senneville\", \"Westmount\", \"Anjou\" ])\n",
    "\n",
    "                                    \n",
    "montreal_data\n",
    "\n"
   ]
  },
  {
   "cell_type": "markdown",
   "id": "8f495daa-c5fb-4d47-a498-3fbc39880075",
   "metadata": {},
   "source": [
    "### Lets look at the buroughs that have the highest percentage of low income households and the buroughs that have the highest population density per square km. "
   ]
  },
  {
   "cell_type": "code",
   "execution_count": null,
   "id": "0afb00c6-f0b4-4fb4-8e4e-d10645dc9074",
   "metadata": {
    "tags": []
   },
   "outputs": [],
   "source": [
    "#this one will reorder the columns from highest % low-income to lowest % low-income\n",
    "\n",
    "montreal_data.sort_values(by=['PERCLOWINC'], ascending=False)"
   ]
  },
  {
   "cell_type": "markdown",
   "id": "f851654e-a617-4c4f-9175-27c376cb58bb",
   "metadata": {},
   "source": [
    "#### If we decide to look at the buroughs that have more than 20% of households at low-income status, we have:\n",
    "1. Ville-Marie\n",
    "2. Villeray-Saint-Michel-Parc-Extension\n",
    "3. Le Plateau-Mont-Royal\n",
    "\n",
    "#### Alternatively, if we look at the three buroughs that are included in the agglomeration of Montreal that have less than 10% of low-income households, he have:\n",
    "1. Rivière-des-Prairies-Pointe-aux-Trembles\n",
    "2. Pierrefonds-Roxboro\n",
    "3. Verdun"
   ]
  },
  {
   "cell_type": "code",
   "execution_count": null,
   "id": "b00d93fc-1d24-4498-a88a-43dd9567d328",
   "metadata": {
    "tags": []
   },
   "outputs": [],
   "source": [
    "#this one will reorder the columns from highest population density to lowest population density\n",
    "\n",
    "montreal_data.sort_values(by=['POPDENS'], ascending=False)"
   ]
  },
  {
   "cell_type": "markdown",
   "id": "fe0975d3-b91d-4500-8984-e2adcd5631d3",
   "metadata": {},
   "source": [
    "#### If we decide to look at the top three most dense buroughs we have:\n",
    "1. Villeray-Saint-Michel-Parc-Extension\n",
    "2. Côte-des-Neiges-Notre-Dame-de-Grâce\n",
    "3. Le Plateau-Mont-Royal\n",
    "\n",
    "#### If we look at the three least dense buroughs we have:\n",
    "1. Pierrefonds-Roxboro\n",
    "2. Rivière-des-Prairies-Pointe-aux-Trembles\n",
    "3. Lasalle\n",
    "\n"
   ]
  },
  {
   "cell_type": "code",
   "execution_count": null,
   "id": "55756560-f659-4a49-8bce-81e783511f9c",
   "metadata": {
    "tags": []
   },
   "outputs": [],
   "source": [
    "# I will try to merge both datasets now to try to make a map, first i need to make sure the 'NOM' which will be the column I am using, match in both datasets, you can see in the trees dataset that there is spacing between some of the dashes so we will fix this. \n",
    "\n",
    "#geo_trees['NOM'].value_counts() #this will show us all of the burough names\n",
    "\n",
    "geo_trees['NOM'] = geo_trees['NOM'].replace({'Rosemont - La Petite-Patrie': 'Rosemont-La Petite-Patrie',\n",
    "                                             'Ahuntsic - Cartierville': 'Ahuntsic-Cartierville',\n",
    "                                            'Mercier - Hochelaga-Maisonneuve': 'Mercier-Hochelaga-Maisonneuve',\n",
    "                                            'Côte-des-Neiges - Notre-Dame-de-Grâce': 'Côte-des-Neiges-Notre-Dame-de-Grâce',\n",
    "                                            'Villeray-Saint-Michel - Parc-Extension': 'Villeray-Saint-Michel-Parc-Extension',\n",
    "                                            'Rivière-des-Prairies - Pointe-aux-Trembles': 'Rivière-des-Prairies-Pointe-aux-Trembles',\n",
    "                                            'Pierrefonds - Roxboro': 'Pierrefonds-Roxboro'})\n",
    "\n",
    "geo_trees"
   ]
  },
  {
   "cell_type": "code",
   "execution_count": null,
   "id": "0c1f30e4-d4a3-4dbb-9239-557c8ce4c1cd",
   "metadata": {
    "jupyter": {
     "source_hidden": true
    },
    "tags": []
   },
   "outputs": [],
   "source": [
    "#geo_trees = geo_trees.set_crs('EPSG:2950')"
   ]
  },
  {
   "cell_type": "markdown",
   "id": "7e56e78e-9446-4ba6-9983-3a4cf2895a6d",
   "metadata": {
    "tags": []
   },
   "source": [
    "## Part 4\n",
    "\n",
    "### Examining the number of trees present in each burough\n",
    "\n",
    "#### Now I will do some more data extraction to check out how many trees are present in the buroughs mentionned above. "
   ]
  },
  {
   "cell_type": "code",
   "execution_count": null,
   "id": "5d07cd9d-827b-4989-b0f3-13200e02c1d0",
   "metadata": {
    "tags": []
   },
   "outputs": [],
   "source": [
    "Tree_Numbers_burough = geo_trees['NOM'].value_counts()\n",
    "\n",
    "Tree_Numbers_burough"
   ]
  },
  {
   "cell_type": "markdown",
   "id": "1ca7062b-0760-4cb3-8fcc-e16a2464aa4d",
   "metadata": {
    "tags": []
   },
   "source": [
    "**Lowest Income:**\n",
    "- Ville-Marie = 18,050\n",
    "- Villeray-Saint-Michel-Parc-Extension = 25,218\n",
    "- Le Plateau-Mont-Royal = 17,715\n",
    "\n",
    "**Highest Income:**\n",
    "- Rivière-des-Prairies-Pointe-aux-Trembles = 25,162 \n",
    "- Pierrefonds-Roxboro = 16,454\n",
    "- Verdun = 17587\n",
    "\n",
    "**Most Dense:**\n",
    "- Villeray-Saint-Michel-Parc-Extension = 25,218\n",
    "- Côte-des-Neiges-Notre-Dame-de-Grâce= 26,969\n",
    "- Le Plateau-Mont-Royal = 17,715\n",
    "\n",
    "**Least Dense:**\n",
    "- Pierrefonds-Roxboro = 16,454\n",
    "- Rivière-des-Prairies-Pointe-aux-Trembles = 25,162\n",
    "- Lasalle = 22,596"
   ]
  },
  {
   "cell_type": "markdown",
   "id": "9a0c161c-f927-4ce5-a3bc-dbc6b3fa3c0c",
   "metadata": {
    "tags": []
   },
   "source": [
    "### Next we will merge our trees data with our new montreal data using NOM as our join column."
   ]
  },
  {
   "cell_type": "code",
   "execution_count": null,
   "id": "1fb9d930-4491-4608-9a9d-15f1b36c2c70",
   "metadata": {
    "tags": []
   },
   "outputs": [],
   "source": [
    "montreal_dataset = pd.merge(\n",
    "    montreal_data,\n",
    "    geo_trees,\n",
    "    how=\"inner\",\n",
    "    on=('NOM') ,\n",
    "    left_on=None,\n",
    "    right_on=None,\n",
    "    left_index=False,\n",
    "    right_index=False,\n",
    "    sort=True,\n",
    "    suffixes=(\"_x\", \"_y\"),\n",
    "    copy=True,\n",
    "    indicator=False,\n",
    "    validate=None,\n",
    ")\n",
    "\n",
    "montreal_dataset"
   ]
  },
  {
   "cell_type": "markdown",
   "id": "e7b99338-e16a-481d-9b89-49732122a668",
   "metadata": {},
   "source": [
    "##Part 5\n",
    "\n",
    "### Unfortunately, my computer cannot handle making a map, or plotting anything now, so we will do some statistics to determine whether # low income, population density, and number of trees coorelate in any way\n",
    "#### First i will see if income and population density depend on eachother in any way\n",
    "#### Next I will see if the amount of trees depend in income or population density"
   ]
  },
  {
   "cell_type": "code",
   "execution_count": null,
   "id": "a74dc40c-e33a-48dd-9377-de620d14e30a",
   "metadata": {
    "tags": []
   },
   "outputs": [],
   "source": [
    "#First we will declare the variables so they can be easily extrated for my evaluation\n",
    "\n",
    "PercLowInc = montreal_data['PERCLOWINC']\n",
    "\n",
    "PopDens = montreal_data['POPDENS']\n",
    "\n",
    "NumTrees = Tree_Numbers_burough\n"
   ]
  },
  {
   "cell_type": "code",
   "execution_count": null,
   "id": "355c8c20-706c-4e80-9972-3eeb5e28a18a",
   "metadata": {
    "tags": []
   },
   "outputs": [],
   "source": [
    "#popdens vs. income\n",
    "\n",
    "dens_v_inc = {'X': PercLowInc,\n",
    "        'Y': PopDens}\n",
    "\n",
    "corr = dens_v_inc['X'].corr(dens_v_inc['Y'])\n",
    "\n",
    "corr"
   ]
  },
  {
   "cell_type": "code",
   "execution_count": null,
   "id": "14c272c7-93ef-4110-a30f-38e6f3d0f7c8",
   "metadata": {
    "tags": []
   },
   "outputs": [],
   "source": [
    "#popdens vs. trees\n",
    "\n",
    "dens_v_tree = {'X': PopDens,\n",
    "        'Y': NumTrees}\n",
    "\n",
    "corr1 = dens_v_tree['X'].corr(dens_v_tree['Y'])\n",
    "\n",
    "corr1\n",
    "\n"
   ]
  },
  {
   "cell_type": "code",
   "execution_count": null,
   "id": "76c5a384-17cc-424c-b88c-9714d532aab8",
   "metadata": {
    "tags": []
   },
   "outputs": [],
   "source": [
    "#income vs. trees\n",
    "\n",
    "inc_v_tree = {'X': PercLowInc,\n",
    "        'Y': NumTrees}\n",
    "\n",
    "corr2 = inc_v_tree['X'].corr(inc_v_tree['Y'])\n",
    "\n",
    "corr2"
   ]
  },
  {
   "cell_type": "markdown",
   "id": "bf9b7496-44d2-4341-b273-b06daa1ac099",
   "metadata": {},
   "source": [
    "### Our results are the following:\n",
    "\n",
    "*income v trees: -0.11*\n",
    "*popdens v trees: 0.40*\n",
    "*popdens v income: 0.56*\n",
    "\n",
    "#### The type of statistical test I performed is a Pearson Coorelation. \n",
    "#### In terms of the significance; \n",
    "- correlation coefficients between -1 and -0.5 or between 0.5 and 1 indicate a strong correlation, \n",
    "- coefficients between -0.5 and -0.3 or between 0.3 and 0.5 indicate a moderate correlation, \n",
    "- coefficients between -0.3 and 0.3 indicate a weak correlation or no correlation.\n",
    "\n",
    "#### If we use this to examine the results, we can conclude that as per the Peterson Coorelation test; \n",
    "- income and trees indicate zero coorelation\n",
    "- population density and trees indicate a moderate coorelation\n",
    "- income and population density indicate a strong coorelation\n",
    "\n",
    "#### **It is important to remember that this is only one statistical test, and that coorelation does not always equal to causation**"
   ]
  },
  {
   "cell_type": "markdown",
   "id": "ccaf3170-b43a-418e-9413-ecc573e6e67d",
   "metadata": {},
   "source": [
    "### *In Conclusion*\n",
    "\n",
    "#### As per the Hypothesis determined in the initial README file, not all variables coorelate, so the conclusion will be that although income and amount of public trees planted may not coorelate, there is a strong possibility that income and population density coorelate, and there is a moderate possibility that population density and amount of trees planted coorelate. \n",
    "\n",
    "#### In order to continue this study, it would be reccomended to examine these files on a GIS platform such as ArcPro or QGIS"
   ]
  }
 ],
 "metadata": {
  "kernelspec": {
   "display_name": "Python 3 (ipykernel)",
   "language": "python",
   "name": "python3"
  },
  "language_info": {
   "codemirror_mode": {
    "name": "ipython",
    "version": 3
   },
   "file_extension": ".py",
   "mimetype": "text/x-python",
   "name": "python",
   "nbconvert_exporter": "python",
   "pygments_lexer": "ipython3",
   "version": "3.11.1"
  }
 },
 "nbformat": 4,
 "nbformat_minor": 5
}
